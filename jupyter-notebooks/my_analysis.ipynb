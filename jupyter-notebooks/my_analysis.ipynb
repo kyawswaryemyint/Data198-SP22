{
 "cells": [
  {
   "cell_type": "code",
   "execution_count": 5,
   "id": "9b6a36d6",
   "metadata": {},
   "outputs": [
    {
     "data": {
      "text/plain": [
       "True"
      ]
     },
     "execution_count": 5,
     "metadata": {},
     "output_type": "execute_result"
    }
   ],
   "source": [
    "a = 2\n",
    "b = 4\n",
    "c = 6\n",
    "a + b == c"
   ]
  },
  {
   "cell_type": "code",
   "execution_count": 6,
   "id": "03f2d28f",
   "metadata": {},
   "outputs": [],
   "source": [
    "#My name is Kyaw Swar Ye Myint."
   ]
  }
 ],
 "metadata": {
  "kernelspec": {
   "display_name": "Python 3 (ipykernel)",
   "language": "python",
   "name": "python3"
  },
  "language_info": {
   "codemirror_mode": {
    "name": "ipython",
    "version": 3
   },
   "file_extension": ".py",
   "mimetype": "text/x-python",
   "name": "python",
   "nbconvert_exporter": "python",
   "pygments_lexer": "ipython3",
   "version": "3.9.13"
  }
 },
 "nbformat": 4,
 "nbformat_minor": 5
}
